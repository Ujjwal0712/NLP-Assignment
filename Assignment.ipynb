{
  "cells": [
    {
      "cell_type": "markdown",
      "metadata": {
        "id": "fb3ca3ca"
      },
      "source": [
        "# Task\n",
        "Implement the following in Python:\n",
        "a. Load a corpus dataset from a news page or any other source.\n",
        "b. Write a method to work out the distinct words (word types) that occur in the corpus.\n",
        "c. Write a method that constructs a co-occurrence matrix for a certain window-size n (with a default of 4), considering words n before and n after the word in the center of the window ( numpy library will be useful for vector, matrix, etc)\n",
        "d. Construct a method that performs dimensionality reduction on the matrix to produce k-dimensional embeddings.\n",
        "e. Write a function to plot a set of 2D vectors in 2D space.\n",
        "f. Plot co-occurrence word embeddings."
      ]
    },
    {
      "cell_type": "markdown",
      "metadata": {
        "id": "8e8cefb3"
      },
      "source": [
        "## Data loading\n",
        "\n",
        "### Subtask:\n",
        "Load a corpus dataset from a news page or any other source.\n"
      ]
    },
    {
      "cell_type": "markdown",
      "metadata": {
        "id": "c4c806a5"
      },
      "source": [
        "**Reasoning**:\n",
        "Import necessary libraries and define the URL for the corpus.\n",
        "\n"
      ]
    },
    {
      "cell_type": "code",
      "execution_count": 27,
      "metadata": {
        "id": "ca297be8"
      },
      "outputs": [],
      "source": [
        "# This is a sample corpus dataset for demonstration purposes.\n",
        "# In a real-world scenario, you would load data from a file or external source.\n",
        "corpus = [\n",
        "    \"The king is a strong leader.\",\n",
        "    \"The queen is a wise ruler.\",\n",
        "    \"The prince is a young man.\",\n",
        "    \"The princess is a young woman.\",\n",
        "    \"A strong man can be a king.\",\n",
        "    \"A wise woman can be a queen.\"\n",
        "]"
      ]
    },
    {
      "cell_type": "code",
      "execution_count": 28,
      "metadata": {
        "id": "3VJJ7WEV_D2U"
      },
      "outputs": [],
      "source": [
        "# Import necessary libraries for text processing, numerical operations, and plotting.\n",
        "import numpy as np\n",
        "import re\n",
        "from sklearn.decomposition import TruncatedSVD\n",
        "import matplotlib.pyplot as plt"
      ]
    },
    {
      "cell_type": "markdown",
      "metadata": {
        "id": "c58a21c0"
      },
      "source": [
        "## Text preprocessing\n",
        "\n",
        "### Subtask:\n",
        "Clean the text data (e.g., lowercase, remove punctuation, tokenize).\n"
      ]
    },
    {
      "cell_type": "markdown",
      "metadata": {
        "id": "0ab3db5c"
      },
      "source": [
        "**Reasoning**:\n",
        "Clean the text data by converting to lowercase, removing punctuation, tokenizing, and removing empty strings.\n",
        "\n"
      ]
    },
    {
      "cell_type": "code",
      "execution_count": 29,
      "metadata": {
        "id": "ef566b75"
      },
      "outputs": [],
      "source": [
        "def preprocess_corpus(corpus):\n",
        "    \"\"\"\n",
        "    Simple preprocessing function: tokenizes, converts to lowercase, and flattens the corpus.\n",
        "\n",
        "    Args:\n",
        "        corpus (list): A list of strings, where each string is a document or sentence.\n",
        "\n",
        "    Returns:\n",
        "        list: A flattened list of tokens (words) after preprocessing.\n",
        "    \"\"\"\n",
        "    # Remove punctuation using a regular expression and convert to lowercase\n",
        "    processed_corpus = [re.sub(r'[^\\w\\s]', '', doc.lower()) for doc in corpus]\n",
        "    # Tokenize each processed document into words and flatten the list of lists into a single list\n",
        "    tokens = [word for doc in processed_corpus for word in doc.split()]\n",
        "    return tokens"
      ]
    },
    {
      "cell_type": "code",
      "execution_count": 30,
      "metadata": {
        "id": "c408f8cf"
      },
      "outputs": [],
      "source": [
        "# b. Method to get distinct words (word types)\n",
        "def get_distinct_words(tokens):\n",
        "    \"\"\"\n",
        "    Extracts a sorted list of unique word types from the tokenized corpus.\n",
        "    Also creates word-to-index and index-to-word mappings for later use in matrix operations.\n",
        "\n",
        "    Args:\n",
        "        tokens (list): A list of tokens (words) from the corpus.\n",
        "\n",
        "    Returns:\n",
        "        tuple: A tuple containing (distinct_words, word_to_index, index_to_word)\n",
        "               - distinct_words (list): A sorted list of unique words.\n",
        "               - word_to_index (dict): A mapping from words to their integer indices.\n",
        "               - index_to_word (dict): A mapping from integer indices to words.\n",
        "    \"\"\"\n",
        "    # Get unique words using a set and then convert back to a list\n",
        "    # Sort the list for consistent ordering across runs\n",
        "    distinct_words = sorted(list(set(tokens)))\n",
        "\n",
        "    # Create mappings from word to index and index to word\n",
        "    word_to_index = {word: i for i, word in enumerate(distinct_words)}\n",
        "    index_to_word = {i: word for i, word in enumerate(distinct_words)}\n",
        "\n",
        "    print(f\"Found {len(distinct_words)} distinct words.\")\n",
        "    return distinct_words, word_to_index, index_to_word"
      ]
    },
    {
      "cell_type": "code",
      "execution_count": 31,
      "metadata": {
        "id": "bab191d9"
      },
      "outputs": [],
      "source": [
        "def build_co_occurrence_matrix(tokens, word_to_index, window_size=4):\n",
        "    \"\"\"\n",
        "    Constructs a co-occurrence matrix from a list of tokens.\n",
        "    The matrix captures how often words appear within a certain window size of each other.\n",
        "\n",
        "    Args:\n",
        "        tokens (list): The tokenized corpus (list of words).\n",
        "        word_to_index (dict): A mapping from words to their indices.\n",
        "        window_size (int): The number of words to consider before and after the center word.\n",
        "                           Defaults to 4.\n",
        "\n",
        "    Returns:\n",
        "        np.ndarray: The co-occurrence matrix, where matrix[i, j] represents the number\n",
        "                    of times the word with index i appears in the context window of the\n",
        "                    word with index j, and vice versa.\n",
        "    \"\"\"\n",
        "    vocab_size = len(word_to_index)\n",
        "    # Initialize a square matrix of zeros with dimensions equal to the vocabulary size\n",
        "    co_occurrence_matrix = np.zeros((vocab_size, vocab_size), dtype=np.int32)\n",
        "\n",
        "    num_tokens = len(tokens)\n",
        "\n",
        "    # Iterate through each word in the corpus to consider it as the center word\n",
        "    for i, center_word in enumerate(tokens):\n",
        "        # Get the index of the center word\n",
        "        center_word_idx = word_to_index[center_word]\n",
        "\n",
        "        # Define the window boundaries for context words\n",
        "        # 'start' is the index of the first word in the window (clamped at 0)\n",
        "        start = max(0, i - window_size)\n",
        "        # 'end' is the index of the last word in the window + 1 (clamped at num_tokens)\n",
        "        end = min(num_tokens, i + window_size + 1)\n",
        "\n",
        "        # Iterate through the words within the defined window\n",
        "        for j in range(start, end):\n",
        "            # Ensure the center word itself is not counted as its own context\n",
        "            if j != i:\n",
        "                # Get the index of the context word\n",
        "                context_word = tokens[j]\n",
        "                context_idx = word_to_index[context_word]\n",
        "\n",
        "                # Increment the count in the co-occurrence matrix for the pair (center_word, context_word)\n",
        "                co_occurrence_matrix[center_word_idx, context_idx] += 1\n",
        "\n",
        "    print(f\"Co-occurrence matrix of shape {co_occurrence_matrix.shape} created.\")\n",
        "    return co_occurrence_matrix"
      ]
    },
    {
      "cell_type": "code",
      "execution_count": 32,
      "metadata": {
        "id": "Z7GBUVyk9YsN"
      },
      "outputs": [],
      "source": [
        "# d. Method to perform dimensionality reduction\n",
        "def reduce_dimensionality(matrix, k=2):\n",
        "    \"\"\"\n",
        "    Performs dimensionality reduction on an input matrix using Truncated SVD (Singular Value Decomposition).\n",
        "    This is often used to reduce the dimensions of the co-occurrence matrix to get word embeddings.\n",
        "\n",
        "    Args:\n",
        "        matrix (np.ndarray): The input matrix (e.g., co-occurrence matrix).\n",
        "        k (int): The number of dimensions to reduce to. Defaults to 2 for easy plotting.\n",
        "\n",
        "    Returns:\n",
        "        np.ndarray: The matrix with reduced dimensions, where each row is the k-dimensional\n",
        "                    vector representation (embedding) of a word.\n",
        "    \"\"\"\n",
        "    print(f\"Reducing dimensions to {k} using TruncatedSVD...\")\n",
        "    # Initialize TruncatedSVD with the desired number of components (k)\n",
        "    # random_state is set for reproducibility\n",
        "    svd = TruncatedSVD(n_components=k, random_state=42)\n",
        "    # Fit the SVD model to the matrix and transform the matrix to the reduced dimensions\n",
        "    reduced_matrix = svd.fit_transform(matrix)\n",
        "    print(f\"Reduced matrix shape: {reduced_matrix.shape}\")\n",
        "    return reduced_matrix"
      ]
    },
    {
      "cell_type": "code",
      "execution_count": 33,
      "metadata": {
        "id": "NItZr1l59cYq"
      },
      "outputs": [],
      "source": [
        "# e. Function to plot word embeddings\n",
        "# This also fulfills part (a) by plotting the final embeddings.\n",
        "def plot_embeddings(embeddings, index_to_word):\n",
        "    \"\"\"\n",
        "    Plots a set of 2D word vectors (embeddings) in a 2D space.\n",
        "    Each point in the plot represents a word, and its position is determined by its 2D embedding vector.\n",
        "\n",
        "    Args:\n",
        "        embeddings (np.ndarray): A 2D numpy array of word vectors, where each row is a word embedding.\n",
        "                                 The shape should be (number_of_words, 2).\n",
        "        index_to_word (dict): A mapping from integer indices to words for labeling the points in the plot.\n",
        "    \"\"\"\n",
        "    # Check if the embeddings are 2-dimensional, as this function is designed for 2D plotting\n",
        "    if embeddings.shape[1] != 2:\n",
        "        raise ValueError(\"Embeddings must be 2-dimensional to be plotted.\")\n",
        "\n",
        "    # Set a plotting style for better aesthetics\n",
        "    plt.style.use('seaborn-v0_8-whitegrid')\n",
        "    # Create a figure and an axes object for the plot\n",
        "    fig, ax = plt.subplots(figsize=(12, 12)) # Set the figure size for better readability\n",
        "\n",
        "    # Create a scatter plot of the embeddings.\n",
        "    # The x-coordinates are the first dimension of the embeddings, y-coordinates are the second.\n",
        "    ax.scatter(embeddings[:, 0], embeddings[:, 1], alpha=0.7, edgecolors='k') # Add alpha for transparency and edgecolors for visibility\n",
        "\n",
        "    # Annotate each point with its corresponding word\n",
        "    for i, word in index_to_word.items():\n",
        "        # Add text labels for each point (word)\n",
        "        ax.annotate(word, (embeddings[i, 0], embeddings[i, 1]), fontsize=12, xytext=(5, 2), textcoords='offset points')\n",
        "\n",
        "    # Set the title and axis labels for the plot\n",
        "    ax.set_title('2D Word Embeddings from Co-occurrence Matrix', fontsize=16)\n",
        "    ax.set_xlabel('Dimension 1', fontsize=12)\n",
        "    ax.set_ylabel('Dimension 2', fontsize=12)\n",
        "    # Add a grid for easier reading of the plot\n",
        "    plt.grid(True)\n",
        "    # Display the plot\n",
        "    plt.show()"
      ]
    },
    {
      "cell_type": "code",
      "execution_count": null,
      "metadata": {
        "colab": {
          "base_uri": "https://localhost:8080/",
          "height": 1000
        },
        "id": "6_JUIaF-9mcA",
        "outputId": "55fc831d-8175-4ac8-e40b-1ad777d950d8"
      },
      "outputs": [
        {
          "name": "stdout",
          "output_type": "stream",
          "text": [
            "Processed tokens: ['the', 'king', 'is', 'a', 'strong', 'leader', 'the', 'queen', 'is', 'a', 'wise', 'ruler', 'the', 'prince', 'is', 'a', 'young', 'man', 'the', 'princess']\n",
            "Found 16 distinct words.\n",
            "Distinct words count: 16\n",
            "Word to index mapping sample: [('a', 0), ('be', 1), ('can', 2), ('is', 3), ('king', 4), ('leader', 5), ('man', 6), ('prince', 7), ('princess', 8), ('queen', 9)]\n",
            "Co-occurrence matrix of shape (16, 16) created.\n",
            "Co-occurrence matrix shape: (16, 16)\n",
            "Reducing dimensions to 2 using TruncatedSVD...\n",
            "Reduced matrix shape: (16, 2)\n",
            "Word embeddings shape: (16, 2)\n",
            "Word embeddings sample (first 5): [[ 7.55895828 -3.99499833]\n",
            " [ 2.38026353  0.24198248]\n",
            " [ 2.39078552  0.5626074 ]\n",
            " [ 4.93717202  3.244133  ]\n",
            " [ 2.83042632  1.62604193]]\n"
          ]
        },
        {
          "data": {
            "image/png": "[encoded data removed]",
            "text/plain": [
              "<Figure size 1200x1200 with 1 Axes>"
            ]
          },
          "metadata": {},
          "output_type": "display_data"
        }
      ],
      "source": [
        "# This cell orchestrates the entire process of generating and plotting word embeddings.\n",
        "\n",
        "# 1. Preprocess the text data by tokenizing and cleaning.\n",
        "tokens = preprocess_corpus(corpus)\n",
        "print(\"Processed tokens:\", tokens[:20]) # Print first 20 tokens\n",
        "\n",
        "# 2. Get distinct words (vocabulary) and create mappings between words and indices. (Part b)\n",
        "distinct_words, word_to_index, index_to_word = get_distinct_words(tokens)\n",
        "print(\"Distinct words count:\", len(distinct_words))\n",
        "print(\"Word to index mapping sample:\", list(word_to_index.items())[:10]) # Print first 10 items\n",
        "\n",
        "# 3. Construct the co-occurrence matrix based on the tokens and word-to-index mapping. (Part c)\n",
        "# The window_size parameter determines how many words before and after the center word are considered.\n",
        "co_occurrence_matrix = build_co_occurrence_matrix(tokens, word_to_index, window_size=2) # Using window_size=2 as an example\n",
        "print(\"Co-occurrence matrix shape:\", co_occurrence_matrix.shape)\n",
        "\n",
        "# 4. Perform dimensionality reduction on the co-occurrence matrix to obtain k-dimensional embeddings. (Part d)\n",
        "# We reduce to 2 dimensions (k=2) so that the embeddings can be easily plotted in 2D space.\n",
        "word_embeddings_2d = reduce_dimensionality(co_occurrence_matrix, k=2)\n",
        "print(\"Word embeddings shape:\", word_embeddings_2d.shape)\n",
        "print(\"Word embeddings sample (first 5):\", word_embeddings_2d[:5]) # Print first 5 embeddings\n",
        "\n",
        "# 5. Plot the generated 2D word embeddings. (Part a & e)\n",
        "# This function visualizes the word vectors, allowing us to see the relationships between words based on their co-occurrence.\n",
        "plot_embeddings(word_embeddings_2d, index_to_word)"
      ]
    },
    {
      "cell_type": "code",
      "execution_count": null,
      "metadata": {
        "id": "qpm-3zcG_Ldy"
      },
      "outputs": [],
      "source": []
    }
  ],
  "metadata": {
    "colab": {
      "provenance": []
    },
    "kernelspec": {
      "display_name": "Python 3",
      "name": "python3"
    },
    "language_info": {
      "name": "python"
    }
  },
  "nbformat": 4,
  "nbformat_minor": 0
}
